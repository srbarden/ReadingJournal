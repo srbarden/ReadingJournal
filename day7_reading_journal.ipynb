{
 "cells": [
  {
   "cell_type": "markdown",
   "metadata": {},
   "source": [
    "# Day 7 Reading Journal\n",
    "\n",
    "This journal includes several required exercises, but it is meant to encourage active reading more generally.  You should use the journal to take detailed notes, catalog questions, and explore the content from Think Python deeply.\n",
    "\n",
    "Reading: Think Python Chapter 11, 12\n",
    "\n",
    "**Due: Monday, February 13 at 12 noon**\n",
    "\n"
   ]
  },
  {
   "cell_type": "markdown",
   "metadata": {},
   "source": [
    "## [Chapter 11](http://www.greenteapress.com/thinkpython/html/thinkpython012.html)\n"
   ]
  },
  {
   "cell_type": "markdown",
   "metadata": {},
   "source": [
    "**Quick check:** In about one sentence using your own words, what is a dictionary?"
   ]
  },
  {
   "cell_type": "markdown",
   "metadata": {},
   "source": [
    "A dictionary relates thing to each other.  They're associated with each other, so that you can easily access them without defining other variables or if/else statements.  It's like a list, but you can call the indices words."
   ]
  },
  {
   "cell_type": "markdown",
   "metadata": {},
   "source": [
    " "
   ]
  },
  {
   "cell_type": "markdown",
   "metadata": {
    "is_question": true,
    "problem": "Exercise 11.2"
   },
   "source": [
    "### Exercise 11.2  \n",
    "\n",
    "Dictionaries have a method called [`get`](https://docs.python.org/3/library/stdtypes.html#mapping-types-dict) that takes a key and a default value. If the key appears in the dictionary, `get` returns the corresponding value; otherwise it returns the default value. For example:\n",
    "\n",
    "```\n",
    ">>> h = histogram('a')\n",
    ">>> print h\n",
    "{'a': 1}\n",
    ">>> h.get('a', 0)\n",
    "1\n",
    ">>> h.get('b', 0)\n",
    "0\n",
    "```\n",
    "\n",
    "Use `get` to write `histogram` more concisely. You should be able to eliminate the `if` statement. Add unit tests for your histogram implementation."
   ]
  },
  {
   "cell_type": "code",
   "execution_count": 2,
   "metadata": {
    "collapsed": false,
    "solution": "Exercise 11.2"
   },
   "outputs": [
    {
     "data": {
      "text/plain": [
       "{'a': 2, 'h': 1, 'r': 1, 's': 1}"
      ]
     },
     "execution_count": 2,
     "metadata": {},
     "output_type": "execute_result"
    }
   ],
   "source": [
    "def histogram(s):\n",
    "    d = dict()\n",
    "    for c in s:\n",
    "        if c not in d:\n",
    "            d[c] = 1\n",
    "        else:\n",
    "            d[c] += 1\n",
    "    return d\n",
    "histogram('sarah')"
   ]
  },
  {
   "cell_type": "code",
   "execution_count": 13,
   "metadata": {
    "collapsed": false
   },
   "outputs": [
    {
     "name": "stdout",
     "output_type": "stream",
     "text": [
      "Trying:\n",
      "    histogram('sarah')\n",
      "Expecting:\n",
      "    {'a': 2, 's': 1, 'h': 1, 'r': 1}\n",
      "ok\n",
      "1 items had no tests:\n",
      "    __main__\n",
      "1 items passed all tests:\n",
      "   1 tests in __main__.histogram\n",
      "1 tests in 2 items.\n",
      "1 passed and 0 failed.\n",
      "Test passed.\n"
     ]
    },
    {
     "data": {
      "text/plain": [
       "{'a': 2, 'h': 1, 'r': 1, 's': 1}"
      ]
     },
     "execution_count": 13,
     "metadata": {},
     "output_type": "execute_result"
    }
   ],
   "source": [
    "def histogram(string):\n",
    "    \"\"\" Returns dictionary of letter frequency in the given string\n",
    "    \n",
    "        s: the input string\n",
    "        returns: a dictionary\n",
    "        \n",
    "        >>> histogram('sarah')\n",
    "        {'a': 2, 's': 1, 'h': 1, 'r': 1}\n",
    "    \"\"\"\n",
    "    d = dict()\n",
    "    for i in string:\n",
    "        d[i] = d.get(i, 0)\n",
    "        d[i] += 1\n",
    "    return d    \n",
    "\n",
    "import doctest\n",
    "doctest.testmod(verbose=True)\n",
    "\n",
    "histogram('sarah')"
   ]
  },
  {
   "cell_type": "markdown",
   "metadata": {},
   "source": [
    " "
   ]
  },
  {
   "cell_type": "markdown",
   "metadata": {
    "is_question": true,
    "problem": "Exercise 11.4"
   },
   "source": [
    "### Exercise 11.4  \n",
    "\n",
    "Modify `reverse_lookup` so that it builds and returns a list of all keys that map to `v`, or an empty list if there are none. Add unit tests for your implementation."
   ]
  },
  {
   "cell_type": "markdown",
   "metadata": {},
   "source": [
    "If you'd like to learn more about errors and exceptions, you can check out the [Python tutorial](https://docs.python.org/3/tutorial/errors.html) or read ahead to [Appendix A](http://www.greenteapress.com/thinkpython2/html/thinkpython2021.html) of Think Python. If you choose to use doctest for your unit testing, it can also [deal with exceptions](https://docs.python.org/3/library/doctest.html#what-about-exceptions)."
   ]
  },
  {
   "cell_type": "markdown",
   "metadata": {},
   "source": [
    " "
   ]
  },
  {
   "cell_type": "markdown",
   "metadata": {},
   "source": [
    "**Quick check** What type of objects can be used as keys to a dictionary, i.e. what property must they have?"
   ]
  },
  {
   "cell_type": "markdown",
   "metadata": {},
   "source": [
    "Lists can not be key in a dictionary, only values.  Keys must be hashable.  Lists aren't hashable because they're mutable.  Strings can be keys because they are immutable."
   ]
  },
  {
   "cell_type": "markdown",
   "metadata": {},
   "source": [
    " "
   ]
  },
  {
   "cell_type": "markdown",
   "metadata": {
    "is_question": true,
    "problem": "Exercise 11.6"
   },
   "source": [
    "### Exercise 11.6 (modified)\n",
    "\n",
    "Create a memoized version of your Levenshtein distance function from Day 7. What kind of performance change do you see?\n",
    "\n",
    "Optional: If you'd like to get some quantitative results, you could check out the [timeit](https://docs.python.org/3/library/timeit.html) module\n",
    "\n",
    "Note: You can also study Fibonacci here if you prefer."
   ]
  },
  {
   "cell_type": "code",
   "execution_count": null,
   "metadata": {
    "collapsed": true
   },
   "outputs": [],
   "source": [
    "# original fibonacci\n",
    "\n",
    "def fibonacci1(n):\n",
    "    if n == 0:\n",
    "        return 0\n",
    "    elif  n == 1:\n",
    "        return 1\n",
    "    else:\n",
    "        return fibonacci1(n-1) + fibonacci1(n-2)\n",
    "\n",
    "import timeit\n",
    "t = timeit.repeat(\"fibonacci1(100)\", \"from __main__ import fibonacci1\", number=100000)\n",
    "print(t)\n",
    "print(fibonacci1(50))"
   ]
  },
  {
   "cell_type": "code",
   "execution_count": null,
   "metadata": {
    "collapsed": false,
    "solution": "Exercise 11.6"
   },
   "outputs": [],
   "source": [
    "# fibonacci using memos\n",
    "\n",
    "known = {0:0, 1:1}\n",
    "\n",
    "def fibonacci2(n):\n",
    "    if n in known:\n",
    "        return known[n]\n",
    "\n",
    "    res = fibonacci2(n-1) + fibonacci2(n-2)\n",
    "    known[n] = res\n",
    "    return res\n",
    "\n",
    "fibonacci2(10)\n",
    "\n",
    "import timeit\n",
    "t = timeit.repeat(\"fibonacci2(100)\", \"from __main__ import fibonacci2\", number=100000)\n",
    "print(t)\n",
    "print(fibonacci2(50))"
   ]
  },
  {
   "cell_type": "markdown",
   "metadata": {},
   "source": [
    " "
   ]
  },
  {
   "cell_type": "markdown",
   "metadata": {},
   "source": [
    "## [Chapter 12](http://www.greenteapress.com/thinkpython2/html/thinkpython2013.html)\n",
    "\n",
    "**Quick check:** In about one sentence using your own words, what is a tuple?"
   ]
  },
  {
   "cell_type": "markdown",
   "metadata": {},
   "source": [
    "A tuple is like a list, but immutable.  For example, you can't change a value in the tuple.\n",
    "\n",
    "In a way, they are sort of betweeen lists and strings.  You can use lots of list operators, but they're also immutable, like strings."
   ]
  },
  {
   "cell_type": "markdown",
   "metadata": {},
   "source": [
    " "
   ]
  },
  {
   "cell_type": "code",
   "execution_count": 27,
   "metadata": {
    "collapsed": false,
    "solution": "Exercise 11.4"
   },
   "outputs": [
    {
     "name": "stdout",
     "output_type": "stream",
     "text": [
      "Trying:\n",
      "    histogram('sarah')\n",
      "Expecting:\n",
      "    {'a': 2, 's': 1, 'h': 1, 'r': 1}\n",
      "ok\n",
      "Trying:\n",
      "    reverse_lookup(name, 1)\n",
      "Expecting:\n",
      "    ['s', 'h', 'r']\n",
      "ok\n",
      "1 items had no tests:\n",
      "    __main__\n",
      "2 items passed all tests:\n",
      "   1 tests in __main__.histogram\n",
      "   1 tests in __main__.reverse_lookup\n",
      "2 tests in 3 items.\n",
      "2 passed and 0 failed.\n",
      "Test passed.\n"
     ]
    },
    {
     "data": {
      "text/plain": [
       "['s', 'h', 'r']"
      ]
     },
     "execution_count": 27,
     "metadata": {},
     "output_type": "execute_result"
    }
   ],
   "source": [
    "name = {'a': 2, 's': 1, 'h': 1, 'r': 1}\n",
    "\n",
    "def reverse_lookup(d, v):\n",
    "    \"\"\" Given a dictionary and a value, returns all \n",
    "        of the keys that give that value.\n",
    "        \n",
    "        d: a dictionary\n",
    "        v: a value\n",
    "        returns: a list with the keys\n",
    "    \n",
    "        >>> reverse_lookup(name, 1)\n",
    "        ['s', 'h', 'r']\n",
    "    \n",
    "    \"\"\"\n",
    "    keys = []\n",
    "    for k in d:\n",
    "        if d[k] == v:\n",
    "            keys.append(k)\n",
    "    return keys\n",
    "    raise ValueError('the given value does not appear in the dictionary')\n",
    "        \n",
    "\n",
    "import doctest\n",
    "doctest.testmod(verbose=True)\n",
    "reverse_lookup(name, 1)"
   ]
  },
  {
   "cell_type": "markdown",
   "metadata": {
    "is_question": true,
    "problem": "Exercise 12.1"
   },
   "source": [
    "### Chapter 12.4  \n",
    "\n",
    "Many of the built-in functions use variable-length argument tuples. For example, `max` and `min` can take any number of arguments:\n",
    "\n",
    "```\n",
    ">>> max(1,2,3)\n",
    "3\n",
    "```\n",
    "\n",
    "But `sum` does not.\n",
    "\n",
    "```\n",
    ">>> sum(1,2,3)\n",
    "TypeError: sum expected at most 2 arguments, got 3\n",
    "```\n",
    "\n",
    "Write a function called ```sumall``` that takes any number of arguments and returns their sum. \n",
    "\n",
    "Write unit tests for your function. Do I actually need to keep saying this? Let's assume it's always a good idea :)"
   ]
  },
  {
   "cell_type": "code",
   "execution_count": 15,
   "metadata": {
    "collapsed": false,
    "solution": "Exercise 12.1"
   },
   "outputs": [
    {
     "name": "stdout",
     "output_type": "stream",
     "text": [
      "Trying:\n",
      "    sum_all(1,2,3)\n",
      "Expecting:\n",
      "    6\n",
      "ok\n",
      "1 items had no tests:\n",
      "    __main__\n",
      "1 items passed all tests:\n",
      "   1 tests in __main__.sum_all\n",
      "1 tests in 2 items.\n",
      "1 passed and 0 failed.\n",
      "Test passed.\n"
     ]
    },
    {
     "data": {
      "text/plain": [
       "TestResults(failed=0, attempted=1)"
      ]
     },
     "execution_count": 15,
     "metadata": {},
     "output_type": "execute_result"
    }
   ],
   "source": [
    "def sum_all(*tup):\n",
    "    \"\"\" computes the sum of the elements in a tuple\n",
    "        when there are more than two elements.\n",
    "        \n",
    "        >>> sum_all(1,2,3)\n",
    "        6\n",
    "        \n",
    "    \"\"\"\n",
    "\n",
    "    sum = 0\n",
    "    for i in tup:\n",
    "        sum += i\n",
    "    return sum\n",
    "\n",
    "    \n",
    "import doctest\n",
    "doctest.testmod(verbose=True)"
   ]
  },
  {
   "cell_type": "markdown",
   "metadata": {},
   "source": [
    "If you're interested in more flexible ways to pass arguments to functions, check out the [Python tutorial](https://docs.python.org/3/tutorial/controlflow.html#more-on-defining-functions). For instance, you can also use keyword arguments, which are collected into a dictionary just like `*` gathers variable numbers of positional arguments into a tuple.\n",
    "\n",
    "This pattern is very common for defining functions with complex optional behaviors in Python, and you will often see definitions like:\n",
    "\n",
    "```\n",
    "def my_func(required_argument1, *arguments, **keywords):\n",
    "    ...\n",
    "```"
   ]
  },
  {
   "cell_type": "markdown",
   "metadata": {},
   "source": [
    " "
   ]
  },
  {
   "cell_type": "code",
   "execution_count": 22,
   "metadata": {
    "collapsed": false,
    "solution": "Exercise 12 sort"
   },
   "outputs": [
    {
     "name": "stdout",
     "output_type": "stream",
     "text": [
      "True\n",
      "False\n"
     ]
    }
   ],
   "source": [
    "def has_match(t1, t2):\n",
    "    for x, y in zip(t1, t2):\n",
    "        if x == y:\n",
    "            return True\n",
    "    return False\n",
    "\n",
    "a = ( 1,2 , 3,4)\n",
    "b = [ 2,4 , 3,1]\n",
    "c = [(1,3),(1,5)]\n",
    "print(has_match(a,b))\n",
    "print(has_match(a,c))"
   ]
  },
  {
   "cell_type": "markdown",
   "metadata": {
    "is_question": true,
    "problem": "Exercise 12 sort"
   },
   "source": [
    "### Exercise\n",
    "\n",
    "Write a function `sort_by_last_letter` that takes a list of words and returns a new list with the words sorted alphabetically by the _last letter_ in the word. Hint: use the **Decorate, Sort, Undecorate** pattern. Write unit tests for your function."
   ]
  },
  {
   "cell_type": "code",
   "execution_count": 69,
   "metadata": {
    "collapsed": false
   },
   "outputs": [],
   "source": [
    "def sort_by_last_letter(words):\n",
    "    \"\"\"\n",
    "    Takes a list of words and returns a new list with the words \n",
    "    sorted alphabetically by the last letter in the word.\n",
    "    \n",
    "    word_list: list of words as strings\n",
    "    returns: new list alphabetized by last letter\n",
    "    \n",
    "    >>> ['apple', 'banana', 'carrot']\n",
    "    ['banana', 'apple', 'carrot']\n",
    "    \"\"\"\n",
    "    last = []\n",
    "    sorted_words = []\n",
    "    for i in words:\n",
    "        word = i\n",
    "        last.append(word[-1])\n",
    "    \n",
    "    d = list(zip(last, words))  # zip the last letters and words together\n",
    "    d.sort()                    # sort to alphabetize the last letters\n",
    "    \n",
    "    for i, j in d:           # for the pairs in d, add only the sorted words to a list\n",
    "        sorted_words.append(j)\n",
    "    return sorted_words\n",
    "        \n",
    "\n",
    "\n",
    "if __name__ == '__main__':\n",
    "    import doctest\n",
    "    # doctest.testmod(verbose=True)\n",
    "    sort_by_last_letter(['apple', 'banana', 'carrot'])"
   ]
  },
  {
   "cell_type": "markdown",
   "metadata": {},
   "source": [
    "\n",
    "**Quick check** Give an example of when you might use each sequence type:\n",
    "\n",
    "- tuple\n",
    "\n",
    "- list\n",
    "\n",
    "- string"
   ]
  },
  {
   "cell_type": "markdown",
   "metadata": {},
   "source": [
    "You might use a tuple as a dictionary key, since it is immutable (can't use a list).  If you want to change the elements in the sequence, you need to use a list.  Strings are immutable, and they are usually useful when analyzing words.\n",
    "\n"
   ]
  },
  {
   "cell_type": "markdown",
   "metadata": {},
   "source": [
    " "
   ]
  },
  {
   "cell_type": "markdown",
   "metadata": {
    "is_question": true,
    "problem": "Exercise 12.3"
   },
   "source": [
    "### Exercise 12.1 \n",
    "\n",
    "Write a function called `most_frequent` that takes a string and prints the letters in decreasing order of frequency. Find text samples from several different languages and see how letter frequency varies between languages. Compare your results with the tables at http://en.wikipedia.org/wiki/Letter_frequencies. \n",
    "\n",
    "Allen's solution (try it on your own first): http://greenteapress.com/thinkpython2/code/most_frequent.py. "
   ]
  },
  {
   "cell_type": "code",
   "execution_count": 94,
   "metadata": {
    "collapsed": false,
    "solution": "Exercise 12.3"
   },
   "outputs": [
    {
     "name": "stdout",
     "output_type": "stream",
     "text": [
      "English: etoisharnwfdglpcvumbykI\n",
      "German: enihrcdsautgmzowlbfvßHäU'üWSLDpkVRMKIFEB\n"
     ]
    }
   ],
   "source": [
    "def letter_freq(string):\n",
    "\n",
    "    d = dict()\n",
    "    for i in string:\n",
    "        d[i] = d.get(i, 0)\n",
    "        d[i] += 1\n",
    "        \n",
    "        if i == ' ' or i == '\\n' or i == ',' or i == '-' or i == '.' or i == '!' or i == '?':\n",
    "            del d[i]\n",
    "    \n",
    "    return d    \n",
    "\n",
    "def most_frequent(string):\n",
    "    \n",
    "    freq = letter_freq(string)\n",
    "    sorted_freq = []\n",
    "    for key in freq:\n",
    "        sorted_freq.append((freq[key], key))\n",
    "    sorted_freq.sort(reverse=True)  # sorts from high to low\n",
    "    \n",
    "    letters = ''\n",
    "    for i in sorted_freq:\n",
    "        letters += i[1]\n",
    "    return(letters)\n",
    "\n",
    "english = \"\"\"It was the best of times, it was the worst of times,\n",
    "it was the age of wisdom, it was the age of foolishness, it was the epoch of belief,\n",
    "it was the epoch of incredulity, it was the season of light, \n",
    "it was the season of darkness, it was the spring of hope, it was the winter of despair, \n",
    "we had everything before us, we had nothing before us, we were all going direct to heaven,\n",
    "we were all going direct the other way--in short, the period was so far like the present \n",
    "period, that some of its noisiest authorities insisted on its being received, \n",
    "for good or for evil, in the superlative degree of comparison only\"\"\"\n",
    "\n",
    "german = \"\"\"Wie froh bin ich, daß ich weg bin!  Bester Freund, was ist das Herz\n",
    "des Menschen!  Dich zu verlassen, den ich so liebe, von dem ich\n",
    "unzertrennlich war, und froh zu sein!  Ich weiß, du verzeihst mir's.\n",
    "Waren nicht meine übrigen Verbindungen recht ausgesucht vom Schicksal,\n",
    "um ein Herz wie das meine zu ängstigen?  Die arme Leonore!  Und doch\n",
    "war ich unschuldig.  Konnt' ich dafür, daß, während die eigensinnigen\n",
    "Reize ihrer Schwester mir eine angenehme Unterhaltung verschafften,\n",
    "daß eine Leidenschaft in dem armen Herzen sich bildete?  Und doch--bin\n",
    "ich ganz unschuldig?  Hab' ich nicht ihre Empfindungen genährt? \n",
    "\"\"\"\n",
    "\n",
    "print('English:',most_frequent(english))\n",
    "print('German:',most_frequent(german))"
   ]
  },
  {
   "cell_type": "markdown",
   "metadata": {},
   "source": [
    "In comparing German and English, they both have \"e\" as the most common letter. Also, \"h\", \"s\",  \"i\", and \"a\" are in the top 10 most frequent letters.  Something interesting is that there are more capital letters in German than English since all nouns are capitalized."
   ]
  },
  {
   "cell_type": "markdown",
   "metadata": {
    "is_question": true,
    "problem": "Exercise 12.6"
   },
   "source": [
    "### Challenge: Exercise 12.4   (optional)\n",
    "\n",
    "From a [Car Talk Puzzler](http://www.cartalk.com/content/puzzlers):\n",
    "\n",
    "What is the longest English word, that remains a valid English word, as you remove its letters one at a time?\n",
    "\n",
    "Now, letters can be removed from either end, or the middle, but you can’t rearrange any of the letters. Every time you drop a letter, you wind up with another English word. If you do that, you’re eventually going to wind up with one letter and that too is going to be an English word—one that’s found in the dictionary. I want to know what’s the longest word and how many letters does it have?\n",
    "\n",
    "I’m going to give you a little modest example: Sprite. Ok? You start off with sprite, you take a letter off, one from the interior of the word, take the r away, and we’re left with the word spite, then we take the e off the end, we’re left with spit, we take the s off, we’re left with pit, it, and I. \n",
    "\n",
    "Write a program to find all words that can be reduced in this way, and then find the longest one.\n",
    "\n",
    "This exercise is a little more challenging than most, so here are some suggestions:\n",
    "\n",
    "- You might want to write a function that takes a word and computes a list of all the words that can be formed by removing one letter. These are the “children” of the word.\n",
    "- Recursively, a word is reducible if any of its children are reducible. As a base case, you can consider the empty string reducible.\n",
    "- The word list from [Chapter 9.1](http://www.greenteapress.com/thinkpython2/html/thinkpython2010.html) Exercise 1 doesn’t contain single letter words. So you might want to add “I”, “a”, and the empty string.\n",
    "- To improve the performance of your program, you might want to memoize the words that are known to be reducible.\n",
    "\n",
    "Allen's solution: http://greenteapress.com/thinkpython2/code/reducible.py."
   ]
  },
  {
   "cell_type": "code",
   "execution_count": null,
   "metadata": {
    "collapsed": true,
    "solution": "Exercise 12.6"
   },
   "outputs": [],
   "source": []
  },
  {
   "cell_type": "markdown",
   "metadata": {},
   "source": [
    " "
   ]
  },
  {
   "cell_type": "markdown",
   "metadata": {
    "is_question": true,
    "problem": "Feedback"
   },
   "source": [
    "## Reading Journal feedback\n",
    "\n",
    "[Please complete this short survey](https://docs.google.com/forms/d/e/1FAIpQLScQekhUrf6YYjpfQiAAbavLIA-IJklv_PX1BWbGgxj7JPolmw/viewform?c=0&w=1)\n",
    "\n",
    "If you have any comments on this Reading Journal, feel free to leave them in the survey linked above. This could include suggestions to improve the exercises, topics you'd like to see covered in class next time, or other feedback.\n",
    "\n",
    "If you have Python questions or run into problems while completing the reading, you should post them to Piazza instead so you can get a quick response before your journal is submitted."
   ]
  },
  {
   "cell_type": "markdown",
   "metadata": {
    "feedback_response": true,
    "solution": "Feedback"
   },
   "source": [
    " "
   ]
  }
 ],
 "metadata": {
  "kernelspec": {
   "display_name": "Python 3",
   "language": "python",
   "name": "python3"
  },
  "language_info": {
   "codemirror_mode": {
    "name": "ipython",
    "version": 3
   },
   "file_extension": ".py",
   "mimetype": "text/x-python",
   "name": "python",
   "nbconvert_exporter": "python",
   "pygments_lexer": "ipython3",
   "version": "3.5.2"
  }
 },
 "nbformat": 4,
 "nbformat_minor": 0
}
