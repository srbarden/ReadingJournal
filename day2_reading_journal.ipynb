{
 "cells": [
  {
   "cell_type": "markdown",
   "metadata": {},
   "source": [
    "# Day 2 Reading Journal\n",
    "\n",
    "This journal includes several required exercises, but it is meant to encourage active reading more generally.  You should use the journal to take detailed notes, catalog questions, and explore the content from Think Python deeply.\n",
    "\n",
    "Reading: Think Python Chapter 6.1-6.4, 7\n",
    "\n",
    "**Due: Tuesday, January 24 at 12 noon**\n",
    "\n"
   ]
  },
  {
   "cell_type": "markdown",
   "metadata": {},
   "source": [
    "## [Chapter 6.1-6.4](http://greenteapress.com/thinkpython2/html/thinkpython2007.html)\n",
    "\n",
    "Note: the exercise numbers below match up with the reading for ease of cross referencing."
   ]
  },
  {
   "cell_type": "markdown",
   "metadata": {},
   "source": [
    "**Quick check:** What is a _fruitful function_?"
   ]
  },
  {
   "cell_type": "markdown",
   "metadata": {},
   "source": [
    "Frutiful functions return a value and once they return a value, the function stops.  This is different from printing a value because a function that only prints something has nothing as its return value."
   ]
  },
  {
   "cell_type": "markdown",
   "metadata": {},
   "source": [
    "### Chapter 6.1 \n",
    "Write a `compare` function that returns `1` if `x > y`, `0` if `x == y`, and `-1` if `x < y`."
   ]
  },
  {
   "cell_type": "code",
   "execution_count": 155,
   "metadata": {
    "collapsed": false
   },
   "outputs": [
    {
     "name": "stdout",
     "output_type": "stream",
     "text": [
      "-1\n",
      "0\n",
      "1\n"
     ]
    }
   ],
   "source": [
    "def compare(x,y):\n",
    "    if x > y:\n",
    "        return 1\n",
    "    if x==y:\n",
    "        return 0\n",
    "    if x < y:\n",
    "        return -1\n",
    "    \n",
    "print(compare(1,2))\n",
    "print(compare(2,2))\n",
    "print(compare(2,1))"
   ]
  },
  {
   "cell_type": "markdown",
   "metadata": {},
   "source": [
    "**Quick check:** Modify the `absolute_value` function so that it returns the correct result for all integer inputs."
   ]
  },
  {
   "cell_type": "code",
   "execution_count": 5,
   "metadata": {
    "collapsed": false
   },
   "outputs": [
    {
     "data": {
      "text/plain": [
       "0"
      ]
     },
     "execution_count": 5,
     "metadata": {},
     "output_type": "execute_result"
    }
   ],
   "source": [
    "def absolute_value(x):\n",
    "    if x < 0:\n",
    "        return -x\n",
    "    if x >= 0:      #added 'or equal to' so that absolute_value(0)= 0\n",
    "        return x\n",
    "    \n",
    "absolute_value(0)"
   ]
  },
  {
   "cell_type": "markdown",
   "metadata": {},
   "source": [
    "### Chapter 6.2 \n",
    "Use incremental development to write a function called `hypotenuse` that returns the length of the hypotenuse of a right triangle given the lengths of the two legs as arguments. Record each stage of the development process as you go, using as many cells as you need."
   ]
  },
  {
   "cell_type": "code",
   "execution_count": 156,
   "metadata": {
    "collapsed": false
   },
   "outputs": [
    {
     "data": {
      "text/plain": [
       "0"
      ]
     },
     "execution_count": 156,
     "metadata": {},
     "output_type": "execute_result"
    }
   ],
   "source": [
    "import math\n",
    "\n",
    "def hypotenuse(a, b):\n",
    "    return 0\n",
    "    \n",
    "hypotenuse(3,4)    "
   ]
  },
  {
   "cell_type": "code",
   "execution_count": 158,
   "metadata": {
    "collapsed": false
   },
   "outputs": [
    {
     "name": "stdout",
     "output_type": "stream",
     "text": [
      "5.0\n",
      "13.0\n"
     ]
    }
   ],
   "source": [
    "import math\n",
    "\n",
    "def hypotenuse(a, b):\n",
    "    hyp = math.sqrt(a**2 + b**2)  #pythagorean theorem calculates hyp\n",
    "    return hyp\n",
    "    \n",
    "print(hypotenuse(3,4))\n",
    "print(hypotenuse(5,12))"
   ]
  },
  {
   "cell_type": "markdown",
   "metadata": {},
   "source": [
    "### Chapter 6.4\n",
    "Write a function `is_between(x, y, z)` that returns `True` if `x ≤ y ≤ z` or `False` otherwise."
   ]
  },
  {
   "cell_type": "code",
   "execution_count": 22,
   "metadata": {
    "collapsed": false
   },
   "outputs": [
    {
     "data": {
      "text/plain": [
       "False"
      ]
     },
     "execution_count": 22,
     "metadata": {},
     "output_type": "execute_result"
    }
   ],
   "source": [
    "def is_between(x, y, z):\n",
    "    if x <= y and y <= z:   #both conditions must be satisfied\n",
    "        return True\n",
    "    else: \n",
    "        return False\n",
    "\n",
    "is_between(3, 1, 2)"
   ]
  },
  {
   "cell_type": "markdown",
   "metadata": {},
   "source": [
    "## [Chapter 7](http://greenteapress.com/thinkpython2/html/thinkpython2008.html)\n",
    "\n"
   ]
  },
  {
   "cell_type": "markdown",
   "metadata": {},
   "source": [
    "**Quick check:** How do you test for equality in Python?"
   ]
  },
  {
   "cell_type": "markdown",
   "metadata": {},
   "source": [
    "Equality is tested using two equal signs ==. We don't use = because it is used to assign and reassign variables.  "
   ]
  },
  {
   "cell_type": "markdown",
   "metadata": {},
   "source": [
    "**Challenge:** Prove/disprove the Collatz conjecture :)"
   ]
  },
  {
   "cell_type": "markdown",
   "metadata": {},
   "source": [
    "### Chapter 7.5\n",
    "Encapsulate the loop from Section 7.5 in a function called `square_root` that takes `a` as a parameter, chooses a reasonable value of `x`, and returns an estimate of the square root of `a`."
   ]
  },
  {
   "cell_type": "code",
   "execution_count": 109,
   "metadata": {
    "collapsed": false
   },
   "outputs": [
    {
     "name": "stdout",
     "output_type": "stream",
     "text": [
      "0.5\n",
      "1.25\n",
      "1.025\n",
      "1.0003048780487804\n",
      "1.0000000464611474\n"
     ]
    }
   ],
   "source": [
    "def square_root(a):\n",
    "    x = a/2     #reasonable value is half of x\n",
    "    while True:\n",
    "        print(x)\n",
    "        y = (x + a/x) / 2   #Newton's method\n",
    "        if (abs(y-x) < 0.000001):\n",
    "            break\n",
    "        x = y\n",
    "        \n",
    "square_root(1)"
   ]
  },
  {
   "cell_type": "markdown",
   "metadata": {},
   "source": [
    "### Exercise 7.1  \n",
    "To test the square root algorithm you developed in Exercise 2, you could compare it with Python's `math.sqrt` function. Write a function named `test_square_root` that prints a table like this:\n",
    "\n",
    "```python\n",
    "1.0 1.0           1.0           0.0\n",
    "2.0 1.41421356237 1.41421356237 2.22044604925e-16\n",
    "3.0 1.73205080757 1.73205080757 0.0\n",
    "4.0 2.0           2.0           0.0\n",
    "5.0 2.2360679775  2.2360679775  0.0\n",
    "6.0 2.44948974278 2.44948974278 0.0\n",
    "7.0 2.64575131106 2.64575131106 0.0\n",
    "8.0 2.82842712475 2.82842712475 4.4408920985e-16\n",
    "9.0 3.0           3.0           0.0\n",
    "```\n",
    "\n",
    "The first column is a number, `a`; the second column is the square root of a computed with the function from Section 7.5; the third column is the square root computed by `math.sqrt`; the fourth column is the absolute value of the difference between the two estimates."
   ]
  },
  {
   "cell_type": "code",
   "execution_count": 136,
   "metadata": {
    "collapsed": false
   },
   "outputs": [
    {
     "name": "stdout",
     "output_type": "stream",
     "text": [
      "1.0 1.0                1.0                0.0\n",
      "2.0 1.414213562373095  1.4142135623730951 2.220446049250313e-16\n",
      "3.0 1.7320508075688772 1.7320508075688772 0.0\n",
      "4.0 2.0                2.0                0.0\n",
      "5.0 2.23606797749979   2.23606797749979   0.0\n",
      "6.0 2.449489742783178  2.449489742783178  0.0\n",
      "7.0 2.6457513110645907 2.6457513110645907 0.0\n",
      "8.0 2.82842712474619   2.8284271247461903 4.440892098500626e-16\n",
      "9.0 3.0                3.0                0.0\n"
     ]
    }
   ],
   "source": [
    "import math\n",
    "\n",
    "def square_root(a):\n",
    "    x = a/2\n",
    "    epsilon = 10**(-100)\n",
    "    while True:\n",
    "        y = (x + a/x) / 2\n",
    "        if (abs(y-x) < epsilon):\n",
    "            return x\n",
    "        x = y\n",
    "\n",
    "def test_square_root(a):\n",
    "    \n",
    "    mysqrt = square_root(a)   #uses my function to estimate the square root\n",
    "    realsqrt = math.sqrt(a)   #this computes the real square root\n",
    "    \n",
    "    c1 = str(float(a))    #1st column is the value of a\n",
    "    c2 = str(mysqrt)      #2nd column is the estimation\n",
    "    \n",
    "    if len(c2)<18:         #makes spacing nice for the 2nd column\n",
    "        need2 = 18-len(c2) #use length of the string to determine how much space to add\n",
    "        c2 = c2+need2*' '  \n",
    "        \n",
    "    c3 = str(realsqrt)     #3rd column is the real value\n",
    "    \n",
    "    if len(c3)<18:         #same as above, but for 3rd column\n",
    "        need3 = 18-len(c3)\n",
    "        c3 = c3+need3*' '  \n",
    "        \n",
    "    c4 = abs(mysqrt-realsqrt)  #4th column is the error bewteen the values\n",
    "    \n",
    "    \n",
    "    print(c1, end = ' ')\n",
    "    print(c2, end = ' ')\n",
    "    print(c3, end = ' ')\n",
    "    print(c4)\n",
    "\n",
    "for i in range(1, 10):\n",
    "    test_square_root(i)  #run the test function\n"
   ]
  },
  {
   "cell_type": "markdown",
   "metadata": {},
   "source": [
    "### Challenge: Exercise 7.3  (optional)\n",
    "The mathematician Srinivasa Ramanujan found an infinite series that can be used to generate a numerical approximation of\n",
    "$\\frac{1}{\\pi}$:\n",
    "\n",
    "$$\\frac{1}{\\pi} = \\frac{2 \\sqrt{2}}{9801} \\sum_{k=0}^{\\infty} \\frac{(4k)! (1103+26390k)}{(k!)^4 396^{4k}}$$\n",
    " \n",
    "Write a function called `estimate_pi` that uses this formula to compute and return an estimate of $\\pi$. It should use a `while` loop to compute terms of the summation until the last term is smaller than `1e-15` (which is Python notation for $10^{−15}$). You can check the result by comparing it to `math.pi`.\n",
    "\n",
    "[Possible solution](http://thinkpython.com/code/pi.py) (give the exercise a try before viewing the solution)"
   ]
  },
  {
   "cell_type": "code",
   "execution_count": 154,
   "metadata": {
    "collapsed": false
   },
   "outputs": [
    {
     "name": "stdout",
     "output_type": "stream",
     "text": [
      "3.1415927300133055\n",
      "3.141592653589793\n"
     ]
    }
   ],
   "source": [
    "def estimate_pi():\n",
    "    while True:\n",
    "        k=0\n",
    "        coeff = (2*math.sqrt(2))/9801\n",
    "        num = math.factorial(4*k)*(1103 + 26390*k)\n",
    "        denom = (math.factorial(k)**4)*396**(4*k)\n",
    "        a = coeff*(num/denom)  #compute a term\n",
    "        total = 0\n",
    "        total = total + a   #add the term to the running total\n",
    "        \n",
    "        if a < 1e-15:   \n",
    "            break       #stop the while loop once the last term is small\n",
    "        return 1/total\n",
    "    \n",
    "print(estimate_pi())\n",
    "print(math.pi)"
   ]
  },
  {
   "cell_type": "markdown",
   "metadata": {},
   "source": [
    "## Quick poll\n",
    "\n",
    "About how long did you spend working on this Reading Journal?"
   ]
  },
  {
   "cell_type": "markdown",
   "metadata": {},
   "source": [
    "I spent about 4 hours on this reading journal."
   ]
  },
  {
   "cell_type": "markdown",
   "metadata": {},
   "source": [
    "## Reading Journal feedback\n",
    "\n",
    "Have any comments on this Reading Journal? Feel free to leave them below and we'll read them when you submit your journal entry. This could include suggestions to improve the exercises, topics you'd like to see covered in class next time, or other feedback.\n",
    "\n",
    "If you have Python questions or run into problems while completing the reading, you should post them to Piazza instead so you can get a quick response before your journal is submitted."
   ]
  },
  {
   "cell_type": "markdown",
   "metadata": {},
   "source": [
    "I think I know *how* to use while loops, but I don't completely understand what they're actually doing."
   ]
  },
  {
   "cell_type": "markdown",
   "metadata": {},
   "source": [
    " "
   ]
  }
 ],
 "metadata": {
  "kernelspec": {
   "display_name": "Python 3",
   "language": "python",
   "name": "python3"
  },
  "language_info": {
   "codemirror_mode": {
    "name": "ipython",
    "version": 3
   },
   "file_extension": ".py",
   "mimetype": "text/x-python",
   "name": "python",
   "nbconvert_exporter": "python",
   "pygments_lexer": "ipython3",
   "version": "3.5.2"
  }
 },
 "nbformat": 4,
 "nbformat_minor": 0
}
